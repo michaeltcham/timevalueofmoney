{
 "cells": [
  {
   "cell_type": "markdown",
   "metadata": {},
   "source": [
    "# Machines Manufacturing Capital Budgeting Model (Project 1)\n",
    "This is a capital budgeting model used to calculate the cashflows and npv of a business in order to determine its profitability.\n",
    "\n",
    "- [**Setup**](#Setup): Runs any imports and other setup\n",
    "- [**Inputs**](#Inputs): Defines the inputs for the model\n",
    "- [**Assumptions**](#Assumptions): Describes the assumptions that will drive our model\n",
    "- [**Demand**](#Demand): calculating the demand for the next given years\n",
    "- [**Machines**](#Machines) : calculating the amount of machines owned per year\n",
    "- [**Supply**](#supply): calculating the supply per year\n",
    "- [**Inflows**](#Inflows): calculating the inflows of cash per year\n",
    "- [**outflows**](#outflows): calculating the outflows of cash per year\n",
    "- [**cashflows**](#cashflows): calculating the cashflows\n",
    "- [**npv**](#npv): calculating the npv\n",
    "\n",
    "\n"
   ]
  },
  {
   "cell_type": "markdown",
   "metadata": {},
   "source": [
    "## Setup\n",
    "\n",
    "Setup for the later calculations are here. The necessary packages are imported."
   ]
  },
  {
   "cell_type": "code",
   "execution_count": 1,
   "metadata": {},
   "outputs": [],
   "source": [
    "from dataclasses import dataclass\n",
    "import numpy as np\n",
    "import numpy_financial as npf\n",
    "from sensitivity import SensitivityAnalyzer\n",
    "import pandas as pd"
   ]
  },
  {
   "cell_type": "code",
   "execution_count": null,
   "metadata": {},
   "outputs": [],
   "source": []
  },
  {
   "cell_type": "markdown",
   "metadata": {},
   "source": [
    "## Inputs\n",
    "\n",
    "All of the inputs for the model are defined here. A class is constructed to manage the data, and an instance of the class containing the default inputs is created."
   ]
  },
  {
   "cell_type": "code",
   "execution_count": 2,
   "metadata": {},
   "outputs": [
    {
     "data": {
      "text/plain": [
       "ModelInputs(n_phones=100000, price_scrap=50000, price_phone=500, cost_machine_adv=1000000, cogs_phone=250, n_life=10, n_machines=5, d_1=100000, g_d=0.2, max_year=20, interest=0.05, elasticity=100, demand_constant=300000)"
      ]
     },
     "execution_count": 2,
     "metadata": {},
     "output_type": "execute_result"
    }
   ],
   "source": [
    "@dataclass\n",
    "class ModelInputs:\n",
    "    n_phones: float = 100000\n",
    "    price_scrap: float = 50000\n",
    "    price_phone: float = 500\n",
    "    cost_machine_adv: float = 1000000\n",
    "    cogs_phone: float = 250\n",
    "    n_life: int = 10\n",
    "    n_machines: int = 5\n",
    "    d_1: float = 100000\n",
    "    g_d: float = 0.2\n",
    "    max_year: float = 20\n",
    "    interest: float = 0.05\n",
    "        \n",
    "    # Inputs for bonus problem\n",
    "    elasticity: float = 100\n",
    "    demand_constant: float = 300000\n",
    "        \n",
    "data = ModelInputs()\n",
    "model_data= data\n",
    "model_data\n"
   ]
  },
  {
   "cell_type": "code",
   "execution_count": 6,
   "metadata": {},
   "outputs": [
    {
     "ename": "SyntaxError",
     "evalue": "invalid syntax (2760237429.py, line 1)",
     "output_type": "error",
     "traceback": [
      "\u001b[1;36m  Cell \u001b[1;32mIn[6], line 1\u001b[1;36m\u001b[0m\n\u001b[1;33m    cash_flows = # this should ultimately be set to the list containing your cash flow numbers in each year\u001b[0m\n\u001b[1;37m                 ^\u001b[0m\n\u001b[1;31mSyntaxError\u001b[0m\u001b[1;31m:\u001b[0m invalid syntax\n"
     ]
    }
   ],
   "source": [
    "cash_flows = # this should ultimately be set to the list containing your cash flow numbers in each year\n",
    "npv = # this should ultimately be set to the overally model npv number "
   ]
  },
  {
   "cell_type": "markdown",
   "metadata": {},
   "source": [
    "We were asked to construct a model which will help determine how many machines to invest in and how much to spend on marketing. Our goal here is to end up with a cashflow which will help us find the npv for the investment. In order to do so we will successively build \"small\" functions that will help us build our cashflows like so :\n",
    "$$C_F = I_F + O_F$$\n",
    "\n",
    "Where: \n",
    "- $C_F$ : Cash Flow\n",
    "- $I_F$ : Inflow\n",
    "- $O_F$ : Outflow"
   ]
  },
  {
   "cell_type": "markdown",
   "metadata": {},
   "source": [
    "## Assumptions \n"
   ]
  },
  {
   "cell_type": "markdown",
   "metadata": {},
   "source": [
    "Before starting the model, we will formulate and clarify the initial assumptions that will help us drive the model forward.  \n"
   ]
  },
  {
   "cell_type": "markdown",
   "metadata": {},
   "source": [
    "We were given the following informations: \n",
    "\n",
    "-\"In the first year , you must buy a machine.\"\n",
    "\n",
    "\n",
    "-\"Any other machine purchases must be made one after another.\"\n",
    "\n",
    "\n",
    "-\"Advertising can only begin after machine buying is done.\""
   ]
  },
  {
   "cell_type": "markdown",
   "metadata": {},
   "source": [
    "We can therefore assume the following :\n",
    "\n",
    "\n",
    "-The first n_machines years (here 5) of the model will be dedicated to buying the machines.\n",
    "\n",
    "-The demand will remain the same (here d_1) until n_machines (here 5) have been bought.\n",
    "\n",
    "-The advertising will begin at year n_machine + 1 (year 6)"
   ]
  },
  {
   "cell_type": "markdown",
   "metadata": {},
   "source": [
    "## Demand"
   ]
  },
  {
   "cell_type": "markdown",
   "metadata": {},
   "source": [
    "The first step will be to determine how the demand will evolve along the years. Indeed, we were given an initial demand that will be increased by a given growth rate starting from year 6. when all the machines have been bought."
   ]
  },
  {
   "cell_type": "markdown",
   "metadata": {},
   "source": [
    "The formula for demand per year will be as follow :\n",
    "\n",
    "If year is inferior or equal to 5 :\n",
    "\n",
    "-$d_t = d_1$\n",
    "\n",
    "If the current year is superior to 5 : \n",
    "\n",
    "-$d_t = d_t-1 + (d_t-1 * g_d)$\n",
    "\n",
    "where:\n",
    "\n",
    "-$d_1$: Initial Demand \n",
    "\n",
    "-$d_t$: Demand for the year $t$\n",
    "\n",
    "-$d_t-1$ : Demand for the previous year \n",
    "\n",
    "-$g_d$: Growth rate\n",
    "\n",
    "In Python format:"
   ]
  },
  {
   "cell_type": "code",
   "execution_count": 3,
   "metadata": {},
   "outputs": [
    {
     "name": "stdout",
     "output_type": "stream",
     "text": [
      "Demand over years:  [0, 100000, 100000, 100000, 100000, 100000, 120000.0, 144000.0, 172800.0, 207360.0, 248832.0, 298598.39999999997, 358318.07999999996, 429981.69599999994, 515978.0351999999, 619173.6422399998, 743008.3706879998, 891610.0448255996, 1069932.0537907195, 1283918.4645488632, 1540702.1574586357]\n"
     ]
    }
   ],
   "source": [
    "def calculate_demand(data: ModelInputs):\n",
    "    # Calculate demand for each year from year 1 to max_year\n",
    "    demand = [0]\n",
    "    for year in range(data.max_year):\n",
    "        if year < data.n_machines:\n",
    "            demand.append(data.d_1)\n",
    "        else:\n",
    "            previous_demand = demand[-1]\n",
    "            new_demand = previous_demand * (1 + data.g_d)\n",
    "            demand.append(new_demand)\n",
    "    return demand\n",
    "\n",
    "demand = calculate_demand(data)\n",
    "# Print the demand list\n",
    "print(\"Demand over years: \", demand)\n"
   ]
  },
  {
   "cell_type": "code",
   "execution_count": null,
   "metadata": {},
   "outputs": [],
   "source": [
    "demand[0]"
   ]
  },
  {
   "cell_type": "markdown",
   "metadata": {},
   "source": [
    "## Machines"
   ]
  },
  {
   "cell_type": "markdown",
   "metadata": {},
   "source": [
    "The next step will be to determine the amount of machines owned each year as it will allow us to later determine the available supply for each year.\n",
    "Our function needs to take into account the acquisition of the machine during the first 5 years as well as the machines getting scrapped one by one from year 10."
   ]
  },
  {
   "cell_type": "markdown",
   "metadata": {},
   "source": [
    "The formula will be as follow:\n",
    " If year is inferior or equal to 5:\n",
    "- $n_machines_t$ = 1 * year ( as in 1 per year)\n",
    "\n",
    "  If year is inferior to 11 but superior to 5:\n",
    " - $n_machines_t$ = 5\n",
    "\n",
    " If year is superior or equal to 10 and inferior or to 15:\n",
    " - $n_machines_t$ = $n_machines_t-1$ - 1\n",
    "\n",
    " If year is superior to 15 and inferior or equal to 20:\n",
    " - $n_machines_t$ = 0\n",
    "\n",
    "  where :\n",
    "  \n",
    "  \n",
    "  $n_machines_t$ = number of machines at year\n",
    " \n",
    "  \n",
    "  $n_machines_t-1$ = number of machines at previous year "
   ]
  },
  {
   "cell_type": "code",
   "execution_count": 5,
   "metadata": {},
   "outputs": [
    {
     "name": "stdout",
     "output_type": "stream",
     "text": [
      "[0, 1, 2, 3, 4, 5, 5, 5, 5, 5, 5, 4, 3, 2, 1, 0, 0, 0, 0, 0, 0]\n"
     ]
    },
    {
     "data": {
      "text/plain": [
       "1"
      ]
     },
     "execution_count": 5,
     "metadata": {},
     "output_type": "execute_result"
    }
   ],
   "source": [
    "def calculate_machines(data):\n",
    "    machines= []\n",
    "    for year in range(data.max_year+1):\n",
    "        if year <= data.n_machines:\n",
    "            machines.append(year)\n",
    "        elif data.n_life + 1 > year > data.n_machines:\n",
    "            machines.append(data.n_machines)\n",
    "        elif  data.n_life + data.n_machines > year >= data.n_life :\n",
    "            machines.append(machines[-1] - 1)\n",
    "        else : machines.append(0)\n",
    "    return machines \n",
    "\n",
    "# Create an instance of ModelInputs\n",
    "inputs = ModelInputs()\n",
    "\n",
    "# Calculate machines\n",
    "machines = calculate_machines(data)\n",
    "#print machine list \n",
    "\n",
    "print(machines)\n",
    "machines[1]\n"
   ]
  },
  {
   "cell_type": "markdown",
   "metadata": {},
   "source": [
    "## supply "
   ]
  },
  {
   "cell_type": "markdown",
   "metadata": {},
   "source": [
    "The next step will be to calculate the available supply for each year. The function will need to take into account the acquisition of a new machine each year for the first five years as well as the machines getting scrapped one by one after year 10.\n"
   ]
  },
  {
   "cell_type": "markdown",
   "metadata": {},
   "source": [
    "The formula is as follow :\n",
    "$supply_t$ = $n_  Machines_t$ * $n_ Phones$\n",
    "\n",
    "where :\n",
    "- $supply_t$ = Supply at year t\n",
    " \n",
    "-  $n_machines_t$ = Numbers of machines at year t\n",
    "\n",
    "-  $n_phones$ = Amount of phones per machines"
   ]
  },
  {
   "cell_type": "code",
   "execution_count": 6,
   "metadata": {},
   "outputs": [
    {
     "data": {
      "text/plain": [
       "[0,\n",
       " 100000,\n",
       " 200000,\n",
       " 300000,\n",
       " 400000,\n",
       " 500000,\n",
       " 500000,\n",
       " 500000,\n",
       " 500000,\n",
       " 500000,\n",
       " 500000,\n",
       " 400000,\n",
       " 300000,\n",
       " 200000,\n",
       " 100000,\n",
       " 0,\n",
       " 0,\n",
       " 0,\n",
       " 0,\n",
       " 0,\n",
       " 0]"
      ]
     },
     "execution_count": 6,
     "metadata": {},
     "output_type": "execute_result"
    }
   ],
   "source": [
    "def calculate_supply (data):\n",
    "    supply = []\n",
    "    for machine in machines:\n",
    "        supply.append(machine * data.n_phones)\n",
    "    return supply\n",
    "        \n",
    "supply = calculate_supply (data)\n",
    "supply"
   ]
  },
  {
   "cell_type": "code",
   "execution_count": 7,
   "metadata": {},
   "outputs": [
    {
     "data": {
      "text/plain": [
       "100000"
      ]
     },
     "execution_count": 7,
     "metadata": {},
     "output_type": "execute_result"
    }
   ],
   "source": [
    "supply[1]"
   ]
  },
  {
   "cell_type": "markdown",
   "metadata": {},
   "source": [
    "## Inflows"
   ]
  },
  {
   "cell_type": "markdown",
   "metadata": {},
   "source": [
    "Here, we are getting closer to calculating the final cashflow, the first step will be the calculation of our inflow.\n",
    "\n",
    "\n",
    "The inflow can be defined as the amount of cash coming in each year.  "
   ]
  },
  {
   "cell_type": "markdown",
   "metadata": {},
   "source": [
    "Before calculating the inflow we will need to automate the amount of cash generated by reselling our machines so it will make calculating our inflow easier."
   ]
  },
  {
   "cell_type": "code",
   "execution_count": 8,
   "metadata": {},
   "outputs": [],
   "source": [
    "def scrap_value_per_year (data):\n",
    "    scrap=[]\n",
    "    for year in range(data.max_year+1):\n",
    "         if data.n_life + data.n_machines>=year >= data.n_life + 1:\n",
    "            scrap.append(data.price_scrap)\n",
    "         else: scrap.append(0)\n",
    "    return scrap\n",
    "\n",
    "scrap = scrap_value_per_year(data)\n",
    "\n",
    "            ## sells will occur between year 11 and year 15\n",
    "            ##data.n_life = year 10\n",
    "            ##data.n_life + data.n_machines = year 15"
   ]
  },
  {
   "cell_type": "code",
   "execution_count": 9,
   "metadata": {},
   "outputs": [
    {
     "data": {
      "text/plain": [
       "50000"
      ]
     },
     "execution_count": 9,
     "metadata": {},
     "output_type": "execute_result"
    }
   ],
   "source": [
    "scrap[15]"
   ]
  },
  {
   "cell_type": "markdown",
   "metadata": {},
   "source": [
    "Now that we have calculated the scrap value for each year , we can proceed with our inflows calculations. "
   ]
  },
  {
   "cell_type": "markdown",
   "metadata": {},
   "source": [
    "The formula will be as follow:\n",
    "\n",
    "if  year ≤ 5:\n",
    "\n",
    "$Inflow_t$ = $d.1$ * $n.Phones$\n",
    "\n",
    "if year > 5:\n",
    "\n",
    "the formula used will depend on the demand and supply \n",
    "\n",
    "if demand > supply\n",
    "\n",
    "\n",
    "$$ Inflow_t = d_t* n.phones + s.income_t $$\n",
    "\n",
    "if demand < supply \n",
    "\n",
    "$$Inflow_t = supply_t * n.phones + s.income_t $$ \n",
    "\n",
    "$Inflow_t$ = Inflows at year t\n",
    " \n",
    " $d.1$ = Initial Demand\n",
    "\n",
    " $n.phones$ = Price per phone\n",
    " \n",
    " $s.value$ = Scrap income at year\n",
    "\n",
    " \n",
    "\n"
   ]
  },
  {
   "cell_type": "code",
   "execution_count": 10,
   "metadata": {},
   "outputs": [
    {
     "data": {
      "text/plain": [
       "248832.0"
      ]
     },
     "execution_count": 10,
     "metadata": {},
     "output_type": "execute_result"
    }
   ],
   "source": [
    "demand[10]"
   ]
  },
  {
   "cell_type": "code",
   "execution_count": 11,
   "metadata": {},
   "outputs": [
    {
     "data": {
      "text/plain": [
       "[0,\n",
       " 50000000,\n",
       " 50000000,\n",
       " 50000000,\n",
       " 50000000,\n",
       " 50000000,\n",
       " 60000000.0,\n",
       " 72000000.0,\n",
       " 86400000.0,\n",
       " 103680000.0,\n",
       " 124416000.0,\n",
       " 149349199.99999997,\n",
       " 150050000,\n",
       " 100050000,\n",
       " 50050000,\n",
       " 50000,\n",
       " 0,\n",
       " 0,\n",
       " 0,\n",
       " 0,\n",
       " 0]"
      ]
     },
     "execution_count": 11,
     "metadata": {},
     "output_type": "execute_result"
    }
   ],
   "source": [
    "def inflow_per_year(data: ModelInputs):\n",
    "    inflow = [0]\n",
    "    demand = calculate_demand(data)\n",
    "    supply = calculate_supply(data)\n",
    "    scrap = scrap_value_per_year(data)\n",
    "\n",
    "    for year in range(1,data.max_year+1):\n",
    "        if year < data.n_machines:\n",
    "            total_inflow = demand[year] * data.price_phone\n",
    "        else:\n",
    "            if year < len(demand) and year < len(supply) and year < len(scrap):\n",
    "                if demand[year] <= supply[year]:\n",
    "                    total_inflow = demand[year] * data.price_phone + scrap[year]\n",
    "                else:\n",
    "                    total_inflow = supply[year] * data.price_phone + scrap[year]\n",
    "            else:\n",
    "                total_inflow = 0  # Handle edge case if lists are unexpectedly short\n",
    "        \n",
    "        inflow.append(total_inflow)\n",
    "\n",
    "    return inflow\n",
    "\n",
    "\n",
    "inflow=inflow_per_year(data)\n",
    "inflow"
   ]
  },
  {
   "cell_type": "markdown",
   "metadata": {},
   "source": [
    "## outflows"
   ]
  },
  {
   "cell_type": "markdown",
   "metadata": {},
   "source": [
    "Outflow is the last element we need to be able to calculate in order to arrive at our final cashflows. \n",
    "\n",
    "Outflow can be defined as the amount of cash spent each year. "
   ]
  },
  {
   "cell_type": "markdown",
   "metadata": {},
   "source": [
    "if year ≤ 5:\n",
    "- $$Outflow_t = cost_phones * d_1 + cost_adv$$ \n",
    "\n",
    "\n",
    "if year > 5:\n",
    "\n",
    "when demand > supply \n",
    "\n",
    "$$Outflow_t = cost_phones * d_t + cost_adv$$\n",
    "\n",
    "when demand < supply \n",
    "\n",
    "$$outflow_t = cost_phones * supply_t + cost_adv$$\n",
    "\n",
    "\n",
    "\n",
    "where: \n",
    "\n",
    "\n",
    "-$$outflow_t$$  =  outflow per year \n",
    "\n",
    "\n",
    "-$$cost_phones$$ = cost of phone production\n",
    "\n",
    "\n",
    "-$$supply_t$$ = supply per year \n",
    "\n",
    "\n",
    "\n",
    "-$$cost_adv$$ = cost of advertisement \n",
    "\n",
    "\n",
    "-$$d_1$$ = Initial Demand\n",
    "\n"
   ]
  },
  {
   "cell_type": "code",
   "execution_count": 12,
   "metadata": {},
   "outputs": [
    {
     "name": "stdout",
     "output_type": "stream",
     "text": [
      "Outflow over years: [0, 26000000, 26000000, 26000000, 26000000, 26000000, 31000000.0, 37000000.0, 44200000.0, 52840000.0, 63208000.0, 75649599.99999999, 76000000, 51000000, 26000000, 1000000, 1000000, 1000000, 1000000, 1000000, 1000000]\n"
     ]
    }
   ],
   "source": [
    "\n",
    "def outflow_per_year(data: ModelInputs):\n",
    "    outflow = [0]\n",
    "    \n",
    "    supply = calculate_supply(data)\n",
    "    demand = calculate_demand(data)  # Assuming you have a function to calculate demand\n",
    "    scrap = scrap_value_per_year(data)    # Assuming you have a function to calculate scrap\n",
    "\n",
    "    for year in range(1,data.max_year+1):\n",
    "        if year < data.n_machines:\n",
    "            total_outflow = data.cogs_phone * data.d_1 + data.cost_machine_adv\n",
    "        else:\n",
    "            if year < len(demand) and year < len(supply) and year < len(scrap):\n",
    "                if demand[year] < supply[year]:\n",
    "                    total_outflow = data.cogs_phone * demand[year] + data.cost_machine_adv\n",
    "                else:\n",
    "                    total_outflow = data.cogs_phone * supply[year] + data.cost_machine_adv\n",
    "            else:\n",
    "                total_outflow = 0\n",
    "        \n",
    "        outflow.append(total_outflow)\n",
    "    \n",
    "    return outflow\n",
    "\n",
    "# Example usage\n",
    "data = ModelInputs()  # Ensure this is correctly instantiated with all required attributes\n",
    "outflow = outflow_per_year(data)\n",
    "print(\"Outflow over years:\", outflow)"
   ]
  },
  {
   "cell_type": "markdown",
   "metadata": {},
   "source": [
    "# cashflows"
   ]
  },
  {
   "cell_type": "code",
   "execution_count": 13,
   "metadata": {},
   "outputs": [
    {
     "data": {
      "text/plain": [
       "[0,\n",
       " 24000000,\n",
       " 24000000,\n",
       " 24000000,\n",
       " 24000000,\n",
       " 24000000,\n",
       " 29000000.0,\n",
       " 35000000.0,\n",
       " 42200000.0,\n",
       " 50840000.0,\n",
       " 61208000.0,\n",
       " 73699599.99999999,\n",
       " 74050000,\n",
       " 49050000,\n",
       " 24050000,\n",
       " -950000,\n",
       " -1000000,\n",
       " -1000000,\n",
       " -1000000,\n",
       " -1000000,\n",
       " -1000000]"
      ]
     },
     "execution_count": 13,
     "metadata": {},
     "output_type": "execute_result"
    }
   ],
   "source": [
    "def cashflow_per_year(data):\n",
    "    cashflow=[]\n",
    "    inflow = inflow_per_year(data)\n",
    "    outflow = outflow_per_year(data)\n",
    "    for year in range (0, data.max_year+1):\n",
    "        cashflow.append (inflow[year] - outflow[year])\n",
    "    return cashflow\n",
    "\n",
    "cashflow = cashflow_per_year(data)\n",
    "\n",
    "cashflow"
   ]
  },
  {
   "cell_type": "markdown",
   "metadata": {},
   "source": [
    "## npv"
   ]
  },
  {
   "cell_type": "code",
   "execution_count": 14,
   "metadata": {},
   "outputs": [
    {
     "name": "stdout",
     "output_type": "stream",
     "text": [
      "the npv is 369,276,542.47\n"
     ]
    }
   ],
   "source": [
    "\n",
    "def model_npv(data: ModelInputs):\n",
    "    cashflow= cashflow_per_year(data)\n",
    "    npv = npf.npv(data.interest, cashflow)\n",
    "    return npv\n",
    "\n",
    "# Create an instance of ModelInputs\n",
    "\n",
    "# Calculate NPV\n",
    "npv_result = model_npv(data)\n",
    "print(f\"the npv is {npv_result:,.2f}\")"
   ]
  },
  {
   "cell_type": "markdown",
   "metadata": {},
   "source": [
    "The npv here is positive so we can conclude that a profit will be made on those investments despite the negative cash flows during the last few years"
   ]
  },
  {
   "cell_type": "markdown",
   "metadata": {},
   "source": [
    "## Sensitivity Analysis"
   ]
  },
  {
   "cell_type": "markdown",
   "metadata": {},
   "source": [
    "Sensitivity Analysis is a tool used in financial modeling to analyze how the different values of a set of independent variables affect a specific dependent variable under certain specific conditions. Here we will analyze how "
   ]
  },
  {
   "cell_type": "code",
   "execution_count": 15,
   "metadata": {},
   "outputs": [
    {
     "data": {
      "text/plain": [
       "202104208.459642"
      ]
     },
     "execution_count": 15,
     "metadata": {},
     "output_type": "execute_result"
    }
   ],
   "source": [
    "def model_npv_seperate_args(**kwargs):\n",
    "    data = ModelInputs(**kwargs)\n",
    "    \n",
    "    # Recalculate each component with the new data\n",
    "    demand = calculate_demand(data)\n",
    "    supply = calculate_supply(data)\n",
    "    scrap = scrap_value_per_year(data)\n",
    "    inflow = inflow_per_year(data)\n",
    "    outflow = outflow_per_year(data)\n",
    "    cashflow = cashflow_per_year(data)\n",
    "    \n",
    "    npv = npf.npv(data.interest, cashflow)\n",
    "    return npv\n",
    "\n",
    "model_npv_seperate_args(d_1=50000)"
   ]
  },
  {
   "cell_type": "code",
   "execution_count": 19,
   "metadata": {},
   "outputs": [
    {
     "name": "stdout",
     "output_type": "stream",
     "text": [
      "NPV with d_1=100000: 369276542.47415346\n",
      "NPV with d_1=300000: 837588098.5640895\n"
     ]
    }
   ],
   "source": [
    "initial_npv = model_npv_seperate_args(d_1=100000)\n",
    "print(f\"NPV with d_1=100000: {initial_npv}\")\n",
    "\n",
    "# Test with a different d_1 value\n",
    "different_npv = model_npv_seperate_args(d_1=300000)\n",
    "print(f\"NPV with d_1=300000: {different_npv}\")"
   ]
  },
  {
   "cell_type": "code",
   "execution_count": 16,
   "metadata": {},
   "outputs": [
    {
     "name": "stderr",
     "output_type": "stream",
     "text": [
      "  0%|          | 0/20 [00:00<?, ?it/s]C:\\Users\\tcham\\anaconda3\\Lib\\site-packages\\sensitivity\\df.py:44: FutureWarning: The behavior of DataFrame concatenation with empty or all-NA entries is deprecated. In a future version, this will no longer exclude empty or all-NA columns when determining the result dtypes. To retain the old behavior, exclude the relevant entries before the concat operation.\n",
      "  df = pd.concat([df,pd.DataFrame(pd.Series(base_param_dict)).T])\n",
      "100%|██████████| 20/20 [00:00<00:00, 711.97it/s]\n"
     ]
    }
   ],
   "source": [
    "sensitivity_values ={\n",
    "    'n_machines': [1,2,3,4,5],\n",
    "     'd_1': [10000,100000,200000,300000]\n",
    "}\n",
    "\n",
    "sa = SensitivityAnalyzer(sensitivity_values, \n",
    "                         model_npv_seperate_args)\n",
    "\n",
    "\n",
    "    "
   ]
  },
  {
   "cell_type": "code",
   "execution_count": 17,
   "metadata": {},
   "outputs": [
    {
     "data": {
      "text/html": [
       "<div>\n",
       "<style scoped>\n",
       "    .dataframe tbody tr th:only-of-type {\n",
       "        vertical-align: middle;\n",
       "    }\n",
       "\n",
       "    .dataframe tbody tr th {\n",
       "        vertical-align: top;\n",
       "    }\n",
       "\n",
       "    .dataframe thead th {\n",
       "        text-align: right;\n",
       "    }\n",
       "</style>\n",
       "<table border=\"1\" class=\"dataframe\">\n",
       "  <thead>\n",
       "    <tr style=\"text-align: right;\">\n",
       "      <th></th>\n",
       "      <th>n_machines</th>\n",
       "      <th>d_1</th>\n",
       "      <th>Result</th>\n",
       "    </tr>\n",
       "  </thead>\n",
       "  <tbody>\n",
       "    <tr>\n",
       "      <th>0</th>\n",
       "      <td>1</td>\n",
       "      <td>10000</td>\n",
       "      <td>78095024.4243</td>\n",
       "    </tr>\n",
       "    <tr>\n",
       "      <th>1</th>\n",
       "      <td>1</td>\n",
       "      <td>100000</td>\n",
       "      <td>591353085.381057</td>\n",
       "    </tr>\n",
       "    <tr>\n",
       "      <th>2</th>\n",
       "      <td>1</td>\n",
       "      <td>200000</td>\n",
       "      <td>834211809.366802</td>\n",
       "    </tr>\n",
       "    <tr>\n",
       "      <th>3</th>\n",
       "      <td>1</td>\n",
       "      <td>300000</td>\n",
       "      <td>865132643.480309</td>\n",
       "    </tr>\n",
       "    <tr>\n",
       "      <th>4</th>\n",
       "      <td>2</td>\n",
       "      <td>10000</td>\n",
       "      <td>64167534.042821</td>\n",
       "    </tr>\n",
       "    <tr>\n",
       "      <th>5</th>\n",
       "      <td>2</td>\n",
       "      <td>100000</td>\n",
       "      <td>519990656.109969</td>\n",
       "    </tr>\n",
       "    <tr>\n",
       "      <th>6</th>\n",
       "      <td>2</td>\n",
       "      <td>200000</td>\n",
       "      <td>806408315.709826</td>\n",
       "    </tr>\n",
       "    <tr>\n",
       "      <th>7</th>\n",
       "      <td>2</td>\n",
       "      <td>300000</td>\n",
       "      <td>912779532.970266</td>\n",
       "    </tr>\n",
       "    <tr>\n",
       "      <th>8</th>\n",
       "      <td>3</td>\n",
       "      <td>10000</td>\n",
       "      <td>52206693.031537</td>\n",
       "    </tr>\n",
       "    <tr>\n",
       "      <th>9</th>\n",
       "      <td>3</td>\n",
       "      <td>100000</td>\n",
       "      <td>462261000.807992</td>\n",
       "    </tr>\n",
       "    <tr>\n",
       "      <th>10</th>\n",
       "      <td>3</td>\n",
       "      <td>200000</td>\n",
       "      <td>748614684.994511</td>\n",
       "    </tr>\n",
       "    <tr>\n",
       "      <th>11</th>\n",
       "      <td>3</td>\n",
       "      <td>300000</td>\n",
       "      <td>913934816.421367</td>\n",
       "    </tr>\n",
       "    <tr>\n",
       "      <th>12</th>\n",
       "      <td>4</td>\n",
       "      <td>10000</td>\n",
       "      <td>42602414.529561</td>\n",
       "    </tr>\n",
       "    <tr>\n",
       "      <th>13</th>\n",
       "      <td>4</td>\n",
       "      <td>100000</td>\n",
       "      <td>411662795.886592</td>\n",
       "    </tr>\n",
       "    <tr>\n",
       "      <th>14</th>\n",
       "      <td>4</td>\n",
       "      <td>200000</td>\n",
       "      <td>693573131.932306</td>\n",
       "    </tr>\n",
       "    <tr>\n",
       "      <th>15</th>\n",
       "      <td>4</td>\n",
       "      <td>300000</td>\n",
       "      <td>874830399.957883</td>\n",
       "    </tr>\n",
       "    <tr>\n",
       "      <th>16</th>\n",
       "      <td>5</td>\n",
       "      <td>10000</td>\n",
       "      <td>34944648.16594</td>\n",
       "    </tr>\n",
       "    <tr>\n",
       "      <th>17</th>\n",
       "      <td>5</td>\n",
       "      <td>100000</td>\n",
       "      <td>369276542.474153</td>\n",
       "    </tr>\n",
       "    <tr>\n",
       "      <th>18</th>\n",
       "      <td>5</td>\n",
       "      <td>200000</td>\n",
       "      <td>641152605.206397</td>\n",
       "    </tr>\n",
       "    <tr>\n",
       "      <th>19</th>\n",
       "      <td>5</td>\n",
       "      <td>300000</td>\n",
       "      <td>837588098.56409</td>\n",
       "    </tr>\n",
       "  </tbody>\n",
       "</table>\n",
       "</div>"
      ],
      "text/plain": [
       "    n_machines     d_1            Result\n",
       "0            1   10000     78095024.4243\n",
       "1            1  100000  591353085.381057\n",
       "2            1  200000  834211809.366802\n",
       "3            1  300000  865132643.480309\n",
       "4            2   10000   64167534.042821\n",
       "5            2  100000  519990656.109969\n",
       "6            2  200000  806408315.709826\n",
       "7            2  300000  912779532.970266\n",
       "8            3   10000   52206693.031537\n",
       "9            3  100000  462261000.807992\n",
       "10           3  200000  748614684.994511\n",
       "11           3  300000  913934816.421367\n",
       "12           4   10000   42602414.529561\n",
       "13           4  100000  411662795.886592\n",
       "14           4  200000  693573131.932306\n",
       "15           4  300000  874830399.957883\n",
       "16           5   10000    34944648.16594\n",
       "17           5  100000  369276542.474153\n",
       "18           5  200000  641152605.206397\n",
       "19           5  300000   837588098.56409"
      ]
     },
     "execution_count": 17,
     "metadata": {},
     "output_type": "execute_result"
    }
   ],
   "source": [
    "sa.df"
   ]
  },
  {
   "cell_type": "code",
   "execution_count": 18,
   "metadata": {},
   "outputs": [
    {
     "name": "stderr",
     "output_type": "stream",
     "text": [
      "C:\\Users\\tcham\\anaconda3\\Lib\\site-packages\\numpy\\core\\fromnumeric.py:3504: RuntimeWarning: Mean of empty slice.\n",
      "  return _methods._mean(a, axis=axis, dtype=dtype,\n",
      "C:\\Users\\tcham\\anaconda3\\Lib\\site-packages\\numpy\\core\\_methods.py:129: RuntimeWarning: invalid value encountered in scalar divide\n",
      "  ret = ret.dtype.type(ret / rcount)\n"
     ]
    },
    {
     "data": {
      "image/png": "[encoded data removed]",
      "text/plain": [
       "<Figure size 1500x400 with 2 Axes>"
      ]
     },
     "metadata": {},
     "output_type": "display_data"
    }
   ],
   "source": [
    "plot = sa.plot()"
   ]
  },
  {
   "cell_type": "code",
   "execution_count": 3,
   "metadata": {},
   "outputs": [
    {
     "ename": "NameError",
     "evalue": "name 'sa' is not defined",
     "output_type": "error",
     "traceback": [
      "\u001b[1;31m---------------------------------------------------------------------------\u001b[0m",
      "\u001b[1;31mNameError\u001b[0m                                 Traceback (most recent call last)",
      "Cell \u001b[1;32mIn[3], line 1\u001b[0m\n\u001b[1;32m----> 1\u001b[0m sa\u001b[38;5;241m.\u001b[39mdf\u001b[38;5;241m.\u001b[39mcolumn\n",
      "\u001b[1;31mNameError\u001b[0m: name 'sa' is not defined"
     ]
    }
   ],
   "source": []
  },
  {
   "cell_type": "markdown",
   "metadata": {},
   "source": [
    "# scenario analysis "
   ]
  },
  {
   "cell_type": "code",
   "execution_count": 19,
   "metadata": {},
   "outputs": [],
   "source": [
    "bad_economy_data = ModelInputs(\n",
    "        d_1=50000,\n",
    "        price_phone=250,\n",
    "    )\n",
    "\n",
    "good_economy_data = ModelInputs(\n",
    "        d_1=200000,\n",
    "        price_phone=1000,\n",
    "    )\n",
    "\n",
    "cases = { \n",
    "    'Bad': bad_economy_data,\n",
    "    'Normal': model_data,\n",
    "    'Good': good_economy_data,\n",
    "}\n",
    "\n",
    "\n"
   ]
  },
  {
   "cell_type": "code",
   "execution_count": 20,
   "metadata": {},
   "outputs": [
    {
     "name": "stdout",
     "output_type": "stream",
     "text": [
      "in a Bad economy , the npv is $-12,329,314.\n",
      "in a Normal economy , the npv is $369,276,542.\n",
      "in a Good economy , the npv is $1,948,116,444.\n"
     ]
    }
   ],
   "source": [
    "for case_type, case_inputs in cases.items():\n",
    "    npv = model_npv(case_inputs)\n",
    "    print(f'in a {case_type} economy , the npv is ${npv:,.0f}.')\n",
    "    \n",
    "    "
   ]
  },
  {
   "cell_type": "code",
   "execution_count": 21,
   "metadata": {},
   "outputs": [
    {
     "name": "stdout",
     "output_type": "stream",
     "text": [
      "The project would earn an expected NPV of $494,241,594 with a recession chance of 50% and an expansion chance of 20%\n"
     ]
    }
   ],
   "source": [
    "probabilities = {\n",
    "    'Bad': 0.5,\n",
    "    'Normal': 0.3,\n",
    "    'Good': 0.2,\n",
    "}\n",
    "\n",
    "expected_npv = 0\n",
    "for case_type, case_inputs in cases.items():\n",
    "    npv = model_npv(case_inputs)\n",
    "    weighted_npv = npv * probabilities[case_type]\n",
    "    expected_npv += weighted_npv\n",
    "\n",
    "print(f'The project would earn an expected NPV of ${expected_npv:,.0f} with a recession chance of {probabilities[\"Bad\"]:.0%} and an expansion chance of {probabilities[\"Good\"]:.0%}')\n",
    "    "
   ]
  },
  {
   "cell_type": "code",
   "execution_count": null,
   "metadata": {},
   "outputs": [],
   "source": []
  }
 ],
 "metadata": {
  "kernelspec": {
   "display_name": "Python 3 (ipykernel)",
   "language": "python",
   "name": "python3"
  },
  "language_info": {
   "codemirror_mode": {
    "name": "ipython",
    "version": 3
   },
   "file_extension": ".py",
   "mimetype": "text/x-python",
   "name": "python",
   "nbconvert_exporter": "python",
   "pygments_lexer": "ipython3",
   "version": "3.11.7"
  }
 },
 "nbformat": 4,
 "nbformat_minor": 4
}
